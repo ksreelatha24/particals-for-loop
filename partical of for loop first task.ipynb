{
 "cells": [
  {
   "cell_type": "code",
   "execution_count": null,
   "id": "29f6f880",
   "metadata": {},
   "outputs": [],
   "source": [
    "#1.write a python program to convert a string to lower case\n",
    "#2.write a python program to convert only odd index chars into lower case\n",
    "#ex:-PyThON\n",
    "#output:-pyThon\n",
    "#3.write a python program to convert only even index chars into lower case\n",
    "#ex:-PYTHON\n",
    "#ex"
   ]
  },
  {
   "cell_type": "code",
   "execution_count": 30,
   "id": "79ceaa00",
   "metadata": {},
   "outputs": [
    {
     "name": "stdout",
     "output_type": "stream",
     "text": [
      "type the wordPYthONJAva\n"
     ]
    },
    {
     "data": {
      "text/plain": [
       "'pythonjava'"
      ]
     },
     "execution_count": 30,
     "metadata": {},
     "output_type": "execute_result"
    }
   ],
   "source": [
    "#1.write a python program to convert a string to lower case\n",
    "var1=input('type the word')\n",
    "var1.lower()\n",
    "    "
   ]
  },
  {
   "cell_type": "code",
   "execution_count": 1,
   "id": "54762fe7",
   "metadata": {},
   "outputs": [
    {
     "name": "stdout",
     "output_type": "stream",
     "text": [
      "type the wordPYTHON\n",
      "P\n",
      "y\n",
      "T\n",
      "h\n",
      "O\n",
      "n\n"
     ]
    }
   ],
   "source": [
    "#2.write a python program to convert only odd index chars into lower case\n",
    "#ex:-PyThON\n",
    "#output:-pyThon\n",
    "x=input('type the word')\n",
    "L=len(x)\n",
    "for a in range (0,L):\n",
    "    if a%2!=0:\n",
    "        o=x[a]\n",
    "        l=o.lower()\n",
    "        print(l)\n",
    "    else:\n",
    "        p=x[a]\n",
    "        print(p)\n",
    "\n",
    "    "
   ]
  },
  {
   "cell_type": "code",
   "execution_count": 9,
   "id": "4a20e30d",
   "metadata": {},
   "outputs": [
    {
     "name": "stdout",
     "output_type": "stream",
     "text": [
      "type the wordPYTHON\n",
      "p\n",
      "Y\n",
      "t\n",
      "H\n",
      "o\n",
      "N\n"
     ]
    }
   ],
   "source": [
    "#3.write a python program to convert only even index chars into lower case\n",
    "#ex:-PYTHON\n",
    "#ex:-PytHoN\n",
    "x=input('type the word')\n",
    "L=len(x)\n",
    "for a in range (0,L):\n",
    "    if a%2==0:\n",
    "        o=x[a]\n",
    "        l=o.lower()\n",
    "        print(l)\n",
    "    else:\n",
    "        p=x[a]\n",
    "        print(p)\n"
   ]
  },
  {
   "cell_type": "code",
   "execution_count": null,
   "id": "23423703",
   "metadata": {},
   "outputs": [],
   "source": [
    "#4.Write a python program to convert only odd indexed characters to upper case \n",
    "#Ex:- python\n",
    "#Output: - pYtHoN"
   ]
  },
  {
   "cell_type": "code",
   "execution_count": 15,
   "id": "6c8de096",
   "metadata": {},
   "outputs": [
    {
     "name": "stdout",
     "output_type": "stream",
     "text": [
      "type the wordpython\n",
      "p\n",
      "Y\n",
      "t\n",
      "H\n",
      "o\n",
      "N\n"
     ]
    }
   ],
   "source": [
    "x=input(\"type the word\")\n",
    "L=len(x)\n",
    "for a in range (0,L):\n",
    "    if a%2!=0:\n",
    "        o=x[a]\n",
    "        l=o.upper()\n",
    "        print(l)\n",
    "    else:\n",
    "        p=x[a]\n",
    "        print(p)\n",
    "\n",
    "           "
   ]
  },
  {
   "cell_type": "code",
   "execution_count": 16,
   "id": "0087a194",
   "metadata": {},
   "outputs": [
    {
     "name": "stdout",
     "output_type": "stream",
     "text": [
      "type the wordpython\n",
      "p\n",
      "y\n",
      "t\n",
      "h\n",
      "o\n",
      "n\n"
     ]
    }
   ],
   "source": [
    "#5.Write a python program to convert only even #indexed characters to upper case\n",
    "#Ex:- python\n",
    "#Output: - PyThOn\n",
    "x=input('type the word')\n",
    "L=len(x)\n",
    "for a in range (0,L):\n",
    "    if a%2==0:\n",
    "        o=x[a]\n",
    "        l=o.lower()\n",
    "        print(l)\n",
    "    else:\n",
    "        p=x[a]\n",
    "        print(p)\n"
   ]
  },
  {
   "cell_type": "code",
   "execution_count": 17,
   "id": "70e234a1",
   "metadata": {},
   "outputs": [],
   "source": [
    "#6.Write a python program where you have different variable which contains your name sex,age, phone no ,fathers name and mothers\n",
    "#name.And by using this variable create a variable named bio-data where you will use all this variable\n",
    "#Ex:-print(bio-data)\n",
    "#Output:- My name is …., My age is ….,My \n",
    "#phone-no is ….,my fathers name is …,and my \n",
    "#mothers name is……"
   ]
  },
  {
   "cell_type": "code",
   "execution_count": 22,
   "id": "0e6c6d50",
   "metadata": {},
   "outputs": [
    {
     "name": "stdout",
     "output_type": "stream",
     "text": [
      "my name is: sreelatha\n",
      "my age is: 24\n",
      "my phone no: 7093431951\n",
      "my father name is: mallesh\n",
      "my mother name is: laxmi\n",
      " my name is sreelatha,my age is 24, my phone no is 7093431951,my father name is mallesh,my mother name is laxmi\n"
     ]
    }
   ],
   "source": [
    "data=\" \"\n",
    "for i in range(1):\n",
    "    name=input(\"my name is: \")\n",
    "    age=input(\"my age is: \")\n",
    "    phone_no=input(\"my phone no: \")\n",
    "    father_name=input(\"my father name is: \")\n",
    "    mother_name=input(\"my mother name is: \")\n",
    "    bio_data=\"my name is {},my age is {}, my phone no is {},my father name is {},my mother name is {}\".format(name,age,phone_no,father_name,mother_name)\n",
    "    data=data+bio_data\n",
    "    print(data)"
   ]
  },
  {
   "cell_type": "code",
   "execution_count": 27,
   "id": "54e51d69",
   "metadata": {},
   "outputs": [
    {
     "name": "stdout",
     "output_type": "stream",
     "text": [
      "type the string: qw@er@Q@th@3@n@as@\n"
     ]
    },
    {
     "data": {
      "text/plain": [
       "7"
      ]
     },
     "execution_count": 27,
     "metadata": {},
     "output_type": "execute_result"
    }
   ],
   "source": [
    "#7.Write a python program to count how many \n",
    "#times “@” occurred\n",
    "x=input(\"type the string: \")\n",
    "x.count(\"@\")\n"
   ]
  },
  {
   "cell_type": "code",
   "execution_count": null,
   "id": "68556f4c",
   "metadata": {},
   "outputs": [],
   "source": [
    "#8.Write a python program to get only names from the string \n",
    "#“name1.@gmail.com,name2.@gmail.com,name\n",
    "#3.@gmail.com”\n",
    "#Output-name1,name2,name3"
   ]
  },
  {
   "cell_type": "code",
   "execution_count": 63,
   "id": "65ddfb9e",
   "metadata": {},
   "outputs": [
    {
     "name": "stdout",
     "output_type": "stream",
     "text": [
      "type the emails: name1.@gmail.com,name2.@gmail.com,name3.@gmail.com\n"
     ]
    }
   ],
   "source": [
    "x=input(\"type the emails: \")"
   ]
  },
  {
   "cell_type": "code",
   "execution_count": 64,
   "id": "7483ae9d",
   "metadata": {},
   "outputs": [],
   "source": [
    "result=[]\n",
    "y=x.split(\",\")\n",
    "for q in y:\n",
    "    t=q.split('.@')[0]\n",
    "    result.append(t)"
   ]
  },
  {
   "cell_type": "code",
   "execution_count": 65,
   "id": "f378a4e8",
   "metadata": {},
   "outputs": [
    {
     "data": {
      "text/plain": [
       "['name1', 'name2', 'name3']"
      ]
     },
     "execution_count": 65,
     "metadata": {},
     "output_type": "execute_result"
    }
   ],
   "source": [
    "result"
   ]
  },
  {
   "cell_type": "code",
   "execution_count": 1,
   "id": "1fb181b9",
   "metadata": {},
   "outputs": [],
   "source": [
    "#9.Given a string of odd length greater that 9,return a new string made of the middle three characters of a given String\n",
    "#Ex:- “mynameissan\n",
    "#Output:- “mei"
   ]
  },
  {
   "cell_type": "code",
   "execution_count": 50,
   "id": "63b02539",
   "metadata": {},
   "outputs": [
    {
     "name": "stdout",
     "output_type": "stream",
     "text": [
      "mynameis: mynameissan\n"
     ]
    },
    {
     "data": {
      "text/plain": [
       "'mei'"
      ]
     },
     "execution_count": 50,
     "metadata": {},
     "output_type": "execute_result"
    }
   ],
   "source": [
    "x=input(\"mynameis: \")\n",
    "a=x[len(x)//2]\n",
    "b=x[len(x)//2-1]\n",
    "c=x[len(x)//2+1]\n",
    "b+a+c\n"
   ]
  },
  {
   "cell_type": "code",
   "execution_count": 51,
   "id": "f4e25834",
   "metadata": {},
   "outputs": [],
   "source": [
    "#10. Write a python program to insert a 2 string in the middle of 1 string\n",
    "#Ex:-Str1=”myn”\n",
    " #Str2=”sa”\n",
    "#Output:-“msayn”"
   ]
  },
  {
   "cell_type": "code",
   "execution_count": 53,
   "id": "ef2a7711",
   "metadata": {},
   "outputs": [
    {
     "name": "stdout",
     "output_type": "stream",
     "text": [
      "type the str1: myn\n",
      "type the str2: sa\n"
     ]
    },
    {
     "data": {
      "text/plain": [
       "'msayn'"
      ]
     },
     "execution_count": 53,
     "metadata": {},
     "output_type": "execute_result"
    }
   ],
   "source": [
    "str1=input(\"type the str1: \")\n",
    "str2=input(\"type the str2: \")\n",
    "str1[0]+str2[0]+str2[1]+str1[1:]"
   ]
  },
  {
   "cell_type": "code",
   "execution_count": 54,
   "id": "8a21f3dc",
   "metadata": {},
   "outputs": [],
   "source": [
    "#11. Write a program to remove vowels from the entire alphabets  \n",
    "#Ex:- “abcdefghijklmnopqrstuvwxyz”\n",
    "#Output:- “bcdfghjklmnpqrstvwxyz”"
   ]
  },
  {
   "cell_type": "code",
   "execution_count": 13,
   "id": "512c5334",
   "metadata": {},
   "outputs": [
    {
     "name": "stdout",
     "output_type": "stream",
     "text": [
      "bcdfghjklmnpqrstvwxyz\n"
     ]
    }
   ],
   "source": [
    "str1=\"abcdefghijklmnopqrstuvwxyz\"\n",
    "str1=list(str1)\n",
    "vowels=[\"a\",\"e\",\"i\",\"o\",\"u\"]\n",
    "str2=\"\"\n",
    "for y in str1:\n",
    "    if y not in vowels:\n",
    "        str2=str2+y\n",
    "print(str2)\n",
    "        \n",
    "    \n",
    "    \n",
    "    \n",
    "    \n",
    "    \n"
   ]
  },
  {
   "cell_type": "code",
   "execution_count": null,
   "id": "ca3708af",
   "metadata": {},
   "outputs": [],
   "source": []
  }
 ],
 "metadata": {
  "kernelspec": {
   "display_name": "Python 3 (ipykernel)",
   "language": "python",
   "name": "python3"
  },
  "language_info": {
   "codemirror_mode": {
    "name": "ipython",
    "version": 3
   },
   "file_extension": ".py",
   "mimetype": "text/x-python",
   "name": "python",
   "nbconvert_exporter": "python",
   "pygments_lexer": "ipython3",
   "version": "3.9.13"
  }
 },
 "nbformat": 4,
 "nbformat_minor": 5
}
